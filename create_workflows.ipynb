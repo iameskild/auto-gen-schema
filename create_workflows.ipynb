{
 "cells": [
  {
   "cell_type": "code",
   "execution_count": 2,
   "id": "c9dde25f",
   "metadata": {},
   "outputs": [
    {
     "name": "stdout",
     "output_type": "stream",
     "text": [
      "Requirement already satisfied: datamodel-code-generator in /Users/eskild/miniconda3/envs/schema/lib/python3.10/site-packages (0.13.0)\n",
      "Requirement already satisfied: genson<2.0,>=1.2.1 in /Users/eskild/miniconda3/envs/schema/lib/python3.10/site-packages (from datamodel-code-generator) (1.2.2)\n",
      "Requirement already satisfied: prance<1.0,>=0.18.2 in /Users/eskild/miniconda3/envs/schema/lib/python3.10/site-packages (from datamodel-code-generator) (0.21.8.0)\n",
      "Requirement already satisfied: PySnooper<2.0.0,>=0.4.1 in /Users/eskild/miniconda3/envs/schema/lib/python3.10/site-packages (from datamodel-code-generator) (1.1.1)\n",
      "Requirement already satisfied: jinja2<4.0,>=2.10.1 in /Users/eskild/miniconda3/envs/schema/lib/python3.10/site-packages (from datamodel-code-generator) (3.1.2)\n",
      "Requirement already satisfied: black>=19.10b0 in /Users/eskild/miniconda3/envs/schema/lib/python3.10/site-packages (from datamodel-code-generator) (22.6.0)\n",
      "Requirement already satisfied: isort<6.0,>=4.3.21 in /Users/eskild/miniconda3/envs/schema/lib/python3.10/site-packages (from datamodel-code-generator) (5.10.1)\n",
      "Requirement already satisfied: inflect<6.0,>=4.1.0 in /Users/eskild/miniconda3/envs/schema/lib/python3.10/site-packages (from datamodel-code-generator) (5.6.1)\n",
      "Requirement already satisfied: openapi-spec-validator<0.4,>=0.2.8 in /Users/eskild/miniconda3/envs/schema/lib/python3.10/site-packages (from datamodel-code-generator) (0.3.3)\n",
      "Requirement already satisfied: toml<1.0.0,>=0.10.0 in /Users/eskild/miniconda3/envs/schema/lib/python3.10/site-packages (from datamodel-code-generator) (0.10.2)\n",
      "Requirement already satisfied: pydantic[email]<2.0,>=1.9.0 in /Users/eskild/miniconda3/envs/schema/lib/python3.10/site-packages (from datamodel-code-generator) (1.9.1)\n",
      "Requirement already satisfied: argcomplete<3.0,>=1.10 in /Users/eskild/miniconda3/envs/schema/lib/python3.10/site-packages (from datamodel-code-generator) (2.0.0)\n",
      "Requirement already satisfied: typed-ast>=1.5.0 in /Users/eskild/miniconda3/envs/schema/lib/python3.10/site-packages (from datamodel-code-generator) (1.5.4)\n",
      "Requirement already satisfied: click>=8.0.0 in /Users/eskild/miniconda3/envs/schema/lib/python3.10/site-packages (from black>=19.10b0->datamodel-code-generator) (8.1.3)\n",
      "Requirement already satisfied: tomli>=1.1.0 in /Users/eskild/miniconda3/envs/schema/lib/python3.10/site-packages (from black>=19.10b0->datamodel-code-generator) (2.0.1)\n",
      "Requirement already satisfied: platformdirs>=2 in /Users/eskild/miniconda3/envs/schema/lib/python3.10/site-packages (from black>=19.10b0->datamodel-code-generator) (2.5.2)\n",
      "Requirement already satisfied: pathspec>=0.9.0 in /Users/eskild/miniconda3/envs/schema/lib/python3.10/site-packages (from black>=19.10b0->datamodel-code-generator) (0.9.0)\n",
      "Requirement already satisfied: mypy-extensions>=0.4.3 in /Users/eskild/miniconda3/envs/schema/lib/python3.10/site-packages (from black>=19.10b0->datamodel-code-generator) (0.4.3)\n",
      "Requirement already satisfied: MarkupSafe>=2.0 in /Users/eskild/miniconda3/envs/schema/lib/python3.10/site-packages (from jinja2<4.0,>=2.10.1->datamodel-code-generator) (2.1.1)\n",
      "Requirement already satisfied: openapi-schema-validator<0.2.0 in /Users/eskild/miniconda3/envs/schema/lib/python3.10/site-packages (from openapi-spec-validator<0.4,>=0.2.8->datamodel-code-generator) (0.1.6)\n",
      "Requirement already satisfied: pyrsistent<0.17.0 in /Users/eskild/miniconda3/envs/schema/lib/python3.10/site-packages (from openapi-spec-validator<0.4,>=0.2.8->datamodel-code-generator) (0.16.1)\n",
      "Requirement already satisfied: PyYAML>=5.1 in /Users/eskild/miniconda3/envs/schema/lib/python3.10/site-packages (from openapi-spec-validator<0.4,>=0.2.8->datamodel-code-generator) (6.0)\n",
      "Requirement already satisfied: six in /Users/eskild/miniconda3/envs/schema/lib/python3.10/site-packages (from openapi-spec-validator<0.4,>=0.2.8->datamodel-code-generator) (1.16.0)\n",
      "Collecting jsonschema<4.0.0,>=3.2.0\n",
      "  Using cached jsonschema-3.2.0-py2.py3-none-any.whl (56 kB)\n",
      "Requirement already satisfied: setuptools in /Users/eskild/miniconda3/envs/schema/lib/python3.10/site-packages (from openapi-spec-validator<0.4,>=0.2.8->datamodel-code-generator) (63.1.0)\n",
      "Requirement already satisfied: ruamel.yaml~=0.17.10 in /Users/eskild/miniconda3/envs/schema/lib/python3.10/site-packages (from prance<1.0,>=0.18.2->datamodel-code-generator) (0.17.21)\n",
      "Requirement already satisfied: chardet<5.0,>=3.0 in /Users/eskild/miniconda3/envs/schema/lib/python3.10/site-packages (from prance<1.0,>=0.18.2->datamodel-code-generator) (4.0.0)\n",
      "Requirement already satisfied: requests~=2.25 in /Users/eskild/miniconda3/envs/schema/lib/python3.10/site-packages (from prance<1.0,>=0.18.2->datamodel-code-generator) (2.28.1)\n",
      "Requirement already satisfied: semver~=2.13 in /Users/eskild/miniconda3/envs/schema/lib/python3.10/site-packages (from prance<1.0,>=0.18.2->datamodel-code-generator) (2.13.0)\n",
      "Requirement already satisfied: typing-extensions>=3.7.4.3 in /Users/eskild/miniconda3/envs/schema/lib/python3.10/site-packages (from pydantic[email]<2.0,>=1.9.0->datamodel-code-generator) (4.3.0)\n",
      "Requirement already satisfied: email-validator>=1.0.3 in /Users/eskild/miniconda3/envs/schema/lib/python3.10/site-packages (from pydantic[email]<2.0,>=1.9.0->datamodel-code-generator) (1.2.1)\n",
      "Requirement already satisfied: idna>=2.0.0 in /Users/eskild/miniconda3/envs/schema/lib/python3.10/site-packages (from email-validator>=1.0.3->pydantic[email]<2.0,>=1.9.0->datamodel-code-generator) (3.3)\n",
      "Requirement already satisfied: dnspython>=1.15.0 in /Users/eskild/miniconda3/envs/schema/lib/python3.10/site-packages (from email-validator>=1.0.3->pydantic[email]<2.0,>=1.9.0->datamodel-code-generator) (2.2.1)\n",
      "Requirement already satisfied: attrs>=17.4.0 in /Users/eskild/miniconda3/envs/schema/lib/python3.10/site-packages (from jsonschema<4.0.0,>=3.2.0->openapi-spec-validator<0.4,>=0.2.8->datamodel-code-generator) (21.4.0)\n",
      "Requirement already satisfied: isodate in /Users/eskild/miniconda3/envs/schema/lib/python3.10/site-packages (from openapi-schema-validator<0.2.0->openapi-spec-validator<0.4,>=0.2.8->datamodel-code-generator) (0.6.1)\n",
      "Requirement already satisfied: urllib3<1.27,>=1.21.1 in /Users/eskild/miniconda3/envs/schema/lib/python3.10/site-packages (from requests~=2.25->prance<1.0,>=0.18.2->datamodel-code-generator) (1.26.10)\n",
      "Requirement already satisfied: charset-normalizer<3,>=2 in /Users/eskild/miniconda3/envs/schema/lib/python3.10/site-packages (from requests~=2.25->prance<1.0,>=0.18.2->datamodel-code-generator) (2.1.0)\n",
      "Requirement already satisfied: certifi>=2017.4.17 in /Users/eskild/miniconda3/envs/schema/lib/python3.10/site-packages (from requests~=2.25->prance<1.0,>=0.18.2->datamodel-code-generator) (2022.6.15)\n",
      "Requirement already satisfied: ruamel.yaml.clib>=0.2.6 in /Users/eskild/miniconda3/envs/schema/lib/python3.10/site-packages (from ruamel.yaml~=0.17.10->prance<1.0,>=0.18.2->datamodel-code-generator) (0.2.6)\n",
      "Installing collected packages: jsonschema\n",
      "  Attempting uninstall: jsonschema\n",
      "    Found existing installation: jsonschema 4.7.2\n",
      "    Uninstalling jsonschema-4.7.2:\n",
      "      Successfully uninstalled jsonschema-4.7.2\n",
      "\u001b[31mERROR: pip's dependency resolver does not currently take into account all the packages that are installed. This behaviour is the source of the following dependency conflicts.\n",
      "warlock 2.0.1 requires jsonschema<5,>=4, but you have jsonschema 3.2.0 which is incompatible.\u001b[0m\u001b[31m\n",
      "\u001b[0mSuccessfully installed jsonschema-3.2.0\n"
     ]
    }
   ],
   "source": [
    "!pip install datamodel-code-generator"
   ]
  },
  {
   "cell_type": "code",
   "execution_count": 3,
   "id": "d64b034e",
   "metadata": {},
   "outputs": [],
   "source": [
    "!datamodel-codegen --input gha-json-schema.json --output models.py --allow-population-by-field-name"
   ]
  },
  {
   "cell_type": "code",
   "execution_count": null,
   "id": "99bb6be1",
   "metadata": {},
   "outputs": [],
   "source": [
    "import requests \n",
    "\n",
    "def download_schema(url, filename):\n",
    "    with open(filename, \"wb\") as f:\n",
    "        content = requests.get(url).content\n",
    "        f.write(content)"
   ]
  },
  {
   "cell_type": "code",
   "execution_count": null,
   "id": "2497543b",
   "metadata": {},
   "outputs": [],
   "source": [
    "url = \"https://json.schemastore.org/github-workflow.json\"\n",
    "filename = \"gha-json-schema.json\"\n",
    "\n",
    "# download_schema(url, filename)"
   ]
  },
  {
   "cell_type": "code",
   "execution_count": 1,
   "id": "91e4a2cc",
   "metadata": {},
   "outputs": [],
   "source": [
    "import models"
   ]
  },
  {
   "cell_type": "markdown",
   "id": "74f8f1ba",
   "metadata": {},
   "source": [
    " This is a PoC using the Pydantic models generated from `datamodel-codegen` to recreate the `qhub-linter.yaml` GitHub Action. It was initially created from [Pydantic models that were hand-coded](https://github.com/Quansight/qhub/blob/4f2802524ad28ea07597f7ad8dd18abe83973020/qhub/provider/cicd/github.py#L131)."
   ]
  },
  {
   "cell_type": "code",
   "execution_count": 2,
   "id": "dc913957",
   "metadata": {},
   "outputs": [],
   "source": [
    "def get_json(model):\n",
    "    return model.json(\n",
    "        indent=2,\n",
    "        by_alias=True,\n",
    "        exclude_unset=True,\n",
    "        exclude_defaults=True,\n",
    "    )"
   ]
  },
  {
   "cell_type": "code",
   "execution_count": 3,
   "id": "c0bc562b",
   "metadata": {},
   "outputs": [],
   "source": [
    "def pip_install_qhub(version):\n",
    "    return f\"pip install qhub=={version}\""
   ]
  },
  {
   "cell_type": "code",
   "execution_count": 4,
   "id": "2b7551cc",
   "metadata": {},
   "outputs": [],
   "source": [
    "qhub_version = \"0.4.3\"\n",
    "PYTHON_VERSION = \"3.10\""
   ]
  },
  {
   "cell_type": "code",
   "execution_count": null,
   "id": "c7d8e71c",
   "metadata": {},
   "outputs": [],
   "source": []
  },
  {
   "cell_type": "code",
   "execution_count": 5,
   "id": "666961b2",
   "metadata": {
    "scrolled": true
   },
   "outputs": [],
   "source": [
    "step1 = models.Step(\n",
    "    name=\"Checkout Image\",\n",
    "    uses=\"actions/checkout@master\",\n",
    "    with_={\"token\": \"${{ secrets.REPOSITORY_ACCESS_TOKEN }}\"},\n",
    ")"
   ]
  },
  {
   "cell_type": "code",
   "execution_count": 6,
   "id": "2b18113d",
   "metadata": {},
   "outputs": [],
   "source": [
    "step2 = models.Step(\n",
    "    name=\"Set up Python\",\n",
    "    uses=\"actions/setup-python@v2\",\n",
    "    with_={\"python-version\": PYTHON_VERSION},\n",
    ")"
   ]
  },
  {
   "cell_type": "code",
   "execution_count": 7,
   "id": "2e814666",
   "metadata": {},
   "outputs": [],
   "source": [
    "step3 = models.Step(\n",
    "    name=\"Install QHub\", \n",
    "    run=pip_install_qhub(qhub_version)\n",
    ")"
   ]
  },
  {
   "cell_type": "code",
   "execution_count": 8,
   "id": "d4ff4767",
   "metadata": {},
   "outputs": [],
   "source": [
    "step4_envs = {\n",
    "    \"PR_NUMBER\": \"${{ github.event.number }}\",\n",
    "    \"REPO_NAME\": \"${{ github.repository }}\",\n",
    "    \"GITHUB_TOKEN\": \"${{ secrets.REPOSITORY_ACCESS_TOKEN }}\",\n",
    "}\n",
    "\n",
    "step4 = models.Step(\n",
    "    name=\"QHub Lintify\",\n",
    "    run=\"qhub validate --config qhub-config.yaml --enable-commenting\",\n",
    "    env=step4_envs,\n",
    ")"
   ]
  },
  {
   "cell_type": "code",
   "execution_count": 9,
   "id": "5e0cbfcd",
   "metadata": {},
   "outputs": [],
   "source": [
    "jobs = models.NormalJob(\n",
    "    name=\"qhub\",\n",
    "    runs_on=\"ubuntu-latest\",\n",
    "    steps=[step1, step2, step3, step4],\n",
    ")"
   ]
  },
  {
   "cell_type": "code",
   "execution_count": 10,
   "id": "7c17b26a",
   "metadata": {},
   "outputs": [],
   "source": [
    "refs = models.Ref1(\n",
    "    branches=[\"main\"],\n",
    "    paths=[\"qhub-config.yaml\"]\n",
    ")"
   ]
  },
  {
   "cell_type": "code",
   "execution_count": 11,
   "id": "61e634c0",
   "metadata": {},
   "outputs": [],
   "source": [
    "on = models.OnItem(\n",
    "    pull_request=refs\n",
    ")"
   ]
  },
  {
   "cell_type": "code",
   "execution_count": 12,
   "id": "093c0cb7",
   "metadata": {},
   "outputs": [],
   "source": [
    "qhub_linter = models.Model(\n",
    "    name=\"qhub linter\",\n",
    "    on=on,\n",
    "    jobs={\"qhub-validate\": jobs},\n",
    ")"
   ]
  },
  {
   "cell_type": "code",
   "execution_count": 13,
   "id": "4a9717e7",
   "metadata": {},
   "outputs": [
    {
     "name": "stdout",
     "output_type": "stream",
     "text": [
      "{\n",
      "  \"name\": \"qhub linter\",\n",
      "  \"on\": {\n",
      "    \"pull_request\": {\n",
      "      \"branches\": [\n",
      "        \"main\"\n",
      "      ],\n",
      "      \"paths\": [\n",
      "        \"qhub-config.yaml\"\n",
      "      ]\n",
      "    }\n",
      "  },\n",
      "  \"jobs\": {\n",
      "    \"qhub-validate\": {\n",
      "      \"name\": \"qhub\",\n",
      "      \"runs-on\": \"ubuntu-latest\",\n",
      "      \"steps\": [\n",
      "        {\n",
      "          \"name\": \"Checkout Image\",\n",
      "          \"uses\": \"actions/checkout@master\",\n",
      "          \"with\": {\n",
      "            \"token\": \"${{ secrets.REPOSITORY_ACCESS_TOKEN }}\"\n",
      "          }\n",
      "        },\n",
      "        {\n",
      "          \"name\": \"Set up Python\",\n",
      "          \"uses\": \"actions/setup-python@v2\",\n",
      "          \"with\": {\n",
      "            \"python-version\": \"3.10\"\n",
      "          }\n",
      "        },\n",
      "        {\n",
      "          \"name\": \"Install QHub\",\n",
      "          \"run\": \"pip install qhub==0.4.3\"\n",
      "        },\n",
      "        {\n",
      "          \"name\": \"QHub Lintify\",\n",
      "          \"run\": \"qhub validate --config qhub-config.yaml --enable-commenting\",\n",
      "          \"env\": {\n",
      "            \"PR_NUMBER\": \"${{ github.event.number }}\",\n",
      "            \"REPO_NAME\": \"${{ github.repository }}\",\n",
      "            \"GITHUB_TOKEN\": \"${{ secrets.REPOSITORY_ACCESS_TOKEN }}\"\n",
      "          }\n",
      "        }\n",
      "      ]\n",
      "    }\n",
      "  }\n",
      "}\n"
     ]
    }
   ],
   "source": [
    "print(get_json(qhub_linter))"
   ]
  },
  {
   "cell_type": "code",
   "execution_count": 14,
   "id": "38e41f99",
   "metadata": {},
   "outputs": [],
   "source": [
    "fn = \"qhub-linter-new.yaml\"\n",
    "\n",
    "with open(fn, \"w\") as f:\n",
    "    f.write(get_json(qhub_linter))"
   ]
  }
 ],
 "metadata": {
  "kernelspec": {
   "display_name": "Python 3.10.5 ('schema')",
   "language": "python",
   "name": "python3"
  },
  "language_info": {
   "codemirror_mode": {
    "name": "ipython",
    "version": 3
   },
   "file_extension": ".py",
   "mimetype": "text/x-python",
   "name": "python",
   "nbconvert_exporter": "python",
   "pygments_lexer": "ipython3",
   "version": "3.10.5"
  },
  "vscode": {
   "interpreter": {
    "hash": "d4637d5b5ede6e72a039ed5f9cbe52bfaae340050417aaff575059910dbbca70"
   }
  }
 },
 "nbformat": 4,
 "nbformat_minor": 5
}
