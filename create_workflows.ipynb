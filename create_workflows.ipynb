{
 "cells": [
  {
   "cell_type": "markdown",
   "id": "74f8f1ba",
   "metadata": {},
   "source": [
    " This is a PoC using the Pydantic models generated from `datamodel-codegen` to recreate the `qhub-linter.yaml` GitHub Action. It was initially created from [Pydantic models that were hand-coded](https://github.com/Quansight/qhub/blob/4f2802524ad28ea07597f7ad8dd18abe83973020/qhub/provider/cicd/github.py#L131)."
   ]
  },
  {
   "cell_type": "code",
   "execution_count": null,
   "id": "99bb6be1",
   "metadata": {},
   "outputs": [],
   "source": [
    "import requests \n",
    "\n",
    "def download_schema(url, filename):\n",
    "    with open(filename, \"wb\") as f:\n",
    "        content = requests.get(url).content\n",
    "        f.write(content)"
   ]
  },
  {
   "cell_type": "code",
   "execution_count": null,
   "id": "2497543b",
   "metadata": {},
   "outputs": [],
   "source": [
    "url = \"https://json.schemastore.org/github-workflow.json\"\n",
    "filename = \"gha-json-schema.json\"\n",
    "\n",
    "download_schema(url, filename)"
   ]
  },
  {
   "cell_type": "code",
   "execution_count": null,
   "id": "c9dde25f",
   "metadata": {},
   "outputs": [],
   "source": [
    "!pip install datamodel-code-generator"
   ]
  },
  {
   "cell_type": "code",
   "execution_count": null,
   "id": "d64b034e",
   "metadata": {},
   "outputs": [],
   "source": [
    "!datamodel-codegen --input gha-json-schema.json --output models.py --allow-population-by-field-name"
   ]
  },
  {
   "cell_type": "code",
   "execution_count": null,
   "id": "91e4a2cc",
   "metadata": {},
   "outputs": [],
   "source": [
    "import models"
   ]
  },
  {
   "cell_type": "code",
   "execution_count": null,
   "id": "dc913957",
   "metadata": {},
   "outputs": [],
   "source": [
    "def get_json(model):\n",
    "    return model.json(\n",
    "        indent=2,\n",
    "        by_alias=True,\n",
    "        exclude_unset=True,\n",
    "        exclude_defaults=True,\n",
    "    )"
   ]
  },
  {
   "cell_type": "code",
   "execution_count": null,
   "id": "c0bc562b",
   "metadata": {},
   "outputs": [],
   "source": [
    "def pip_install_qhub(version):\n",
    "    return f\"pip install qhub=={version}\""
   ]
  },
  {
   "cell_type": "code",
   "execution_count": null,
   "id": "2b7551cc",
   "metadata": {},
   "outputs": [],
   "source": [
    "qhub_version = \"0.4.3\"\n",
    "PYTHON_VERSION = \"3.10\""
   ]
  },
  {
   "cell_type": "code",
   "execution_count": null,
   "id": "c7d8e71c",
   "metadata": {},
   "outputs": [],
   "source": []
  },
  {
   "cell_type": "code",
   "execution_count": null,
   "id": "666961b2",
   "metadata": {
    "scrolled": true
   },
   "outputs": [],
   "source": [
    "step1 = models.Step(\n",
    "    name=\"Checkout Image\",\n",
    "    uses=\"actions/checkout@master\",\n",
    "    with_={\"token\": \"${{ secrets.REPOSITORY_ACCESS_TOKEN }}\"},\n",
    ")"
   ]
  },
  {
   "cell_type": "code",
   "execution_count": null,
   "id": "2b18113d",
   "metadata": {},
   "outputs": [],
   "source": [
    "step2 = models.Step(\n",
    "    name=\"Set up Python\",\n",
    "    uses=\"actions/setup-python@v2\",\n",
    "    with_={\"python-version\": PYTHON_VERSION},\n",
    ")"
   ]
  },
  {
   "cell_type": "code",
   "execution_count": null,
   "id": "2e814666",
   "metadata": {},
   "outputs": [],
   "source": [
    "step3 = models.Step(\n",
    "    name=\"Install QHub\", \n",
    "    run=pip_install_qhub(qhub_version)\n",
    ")"
   ]
  },
  {
   "cell_type": "code",
   "execution_count": null,
   "id": "d4ff4767",
   "metadata": {},
   "outputs": [],
   "source": [
    "step4_envs = {\n",
    "    \"PR_NUMBER\": \"${{ github.event.number }}\",\n",
    "    \"REPO_NAME\": \"${{ github.repository }}\",\n",
    "    \"GITHUB_TOKEN\": \"${{ secrets.REPOSITORY_ACCESS_TOKEN }}\",\n",
    "}\n",
    "\n",
    "step4 = models.Step(\n",
    "    name=\"QHub Lintify\",\n",
    "    run=\"qhub validate --config qhub-config.yaml --enable-commenting\",\n",
    "    env=step4_envs,\n",
    ")"
   ]
  },
  {
   "cell_type": "code",
   "execution_count": null,
   "id": "5e0cbfcd",
   "metadata": {},
   "outputs": [],
   "source": [
    "jobs = models.NormalJob(\n",
    "    name=\"qhub\",\n",
    "    runs_on=\"ubuntu-latest\",\n",
    "    steps=[step1, step2, step3, step4],\n",
    ")"
   ]
  },
  {
   "cell_type": "code",
   "execution_count": null,
   "id": "7c17b26a",
   "metadata": {},
   "outputs": [],
   "source": [
    "refs = models.Ref1(\n",
    "    branches=[\"main\"],\n",
    "    paths=[\"qhub-config.yaml\"]\n",
    ")"
   ]
  },
  {
   "cell_type": "code",
   "execution_count": null,
   "id": "61e634c0",
   "metadata": {},
   "outputs": [],
   "source": [
    "on = models.OnItem(\n",
    "    pull_request=refs\n",
    ")"
   ]
  },
  {
   "cell_type": "code",
   "execution_count": null,
   "id": "093c0cb7",
   "metadata": {},
   "outputs": [],
   "source": [
    "qhub_linter = models.Model(\n",
    "    name=\"qhub linter\",\n",
    "    on=on,\n",
    "    jobs={\"qhub-validate\": jobs},\n",
    ")"
   ]
  },
  {
   "cell_type": "code",
   "execution_count": null,
   "id": "4a9717e7",
   "metadata": {},
   "outputs": [],
   "source": [
    "print(get_json(qhub_linter))"
   ]
  },
  {
   "cell_type": "code",
   "execution_count": null,
   "id": "38e41f99",
   "metadata": {},
   "outputs": [],
   "source": [
    "fn = \"qhub-linter-new.yaml\"\n",
    "\n",
    "with open(fn, \"w\") as f:\n",
    "    f.write(get_json(qhub_linter))"
   ]
  }
 ],
 "metadata": {
  "kernelspec": {
   "display_name": "Python 3.10.5 ('schema')",
   "language": "python",
   "name": "python3"
  },
  "language_info": {
   "codemirror_mode": {
    "name": "ipython",
    "version": 3
   },
   "file_extension": ".py",
   "mimetype": "text/x-python",
   "name": "python",
   "nbconvert_exporter": "python",
   "pygments_lexer": "ipython3",
   "version": "3.10.5"
  },
  "vscode": {
   "interpreter": {
    "hash": "d4637d5b5ede6e72a039ed5f9cbe52bfaae340050417aaff575059910dbbca70"
   }
  }
 },
 "nbformat": 4,
 "nbformat_minor": 5
}
